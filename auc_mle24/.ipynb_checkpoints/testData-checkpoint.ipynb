{
 "cells": [
  {
   "cell_type": "code",
   "execution_count": 1,
   "id": "0d0448dc",
   "metadata": {},
   "outputs": [],
   "source": [
    "import dataset__\n",
    "import numpy as np"
   ]
  },
  {
   "cell_type": "code",
   "execution_count": 2,
   "id": "e3cde89d",
   "metadata": {},
   "outputs": [],
   "source": [
    "infoData, infoNode, infoBids = dataset__.dataset()"
   ]
  },
  {
   "cell_type": "code",
   "execution_count": 4,
   "id": "1ebce9f9",
   "metadata": {},
   "outputs": [
    {
     "data": {
      "text/plain": [
       "(300, 30)"
      ]
     },
     "execution_count": 4,
     "metadata": {},
     "output_type": "execute_result"
    }
   ],
   "source": [
    "infoBids.shape"
   ]
  },
  {
   "cell_type": "code",
   "execution_count": null,
   "id": "c8383d0b",
   "metadata": {},
   "outputs": [],
   "source": []
  },
  {
   "cell_type": "code",
   "execution_count": null,
   "id": "d125d4f0",
   "metadata": {},
   "outputs": [],
   "source": []
  },
  {
   "cell_type": "code",
   "execution_count": null,
   "id": "4fa89803",
   "metadata": {},
   "outputs": [],
   "source": []
  }
 ],
 "metadata": {
  "kernelspec": {
   "display_name": "Python 3",
   "language": "python",
   "name": "python3"
  },
  "language_info": {
   "codemirror_mode": {
    "name": "ipython",
    "version": 3
   },
   "file_extension": ".py",
   "mimetype": "text/x-python",
   "name": "python",
   "nbconvert_exporter": "python",
   "pygments_lexer": "ipython3",
   "version": "3.8.5"
  }
 },
 "nbformat": 4,
 "nbformat_minor": 5
}
