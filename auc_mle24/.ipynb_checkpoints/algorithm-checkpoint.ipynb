{
 "cells": [
  {
   "cell_type": "code",
   "execution_count": 97,
   "id": "9a07bbee",
   "metadata": {},
   "outputs": [],
   "source": [
    "# 导入\n",
    "import dataset__\n",
    "import calculate__\n",
    "import math\n",
    "import numpy as np\n",
    "\n",
    "'''\n",
    "输入参数:\n",
    "    infoData: (dataNumber, dataType, dataSize, dataValue)  长度为m\n",
    "               (数据项编号 , 数据类型 , 数据大小,  数据价值 )  不同的数据类型系数表示不同的数据类型.\n",
    "               \n",
    "    infoNode: (nodeNumber , storageSize, delayTransfer, delayStore, unitSize, unoccupy)  长度为n\n",
    "               (协作节点编号, 存储空间大小, 传输数据的延迟, 存储的延迟 , unitSize, 空闲率)  unitSize 单位大小资源项所需的存储空间\n",
    "               \n",
    "    infoBids: (b11, b12, b13 ... ... ... b1m)   n*m 关于投标价格的矩阵.\n",
    "               (b21, b22, b23 ... ... ... b2m)\n",
    "                .                           .\n",
    "                .                           .\n",
    "               (bn1, bn2, bn3 ... ... ... bnm)\n",
    "'''\n",
    "infoData, infoNode, infoBids = dataset__.dataset()\n",
    "m = n = len(infoData)"
   ]
  },
  {
   "cell_type": "code",
   "execution_count": 98,
   "id": "bee6b8ff",
   "metadata": {},
   "outputs": [
    {
     "data": {
      "text/plain": [
       "array([[  1,   1, 388, 158],\n",
       "       [  2,   1, 247, 238],\n",
       "       [  3,   1, 315, 206],\n",
       "       ...,\n",
       "       [298,   1, 112, 168],\n",
       "       [299,   1, 308, 222],\n",
       "       [300,   2, 325, 240]])"
      ]
     },
     "execution_count": 98,
     "metadata": {},
     "output_type": "execute_result"
    }
   ],
   "source": [
    "infoData"
   ]
  },
  {
   "cell_type": "code",
   "execution_count": 99,
   "id": "d2522caf",
   "metadata": {},
   "outputs": [],
   "source": [
    "'''\n",
    "输入参数 ：\n",
    "    node     : 编号    /数组\n",
    "    unoccupy : 空闲率  /数组\n",
    "    delay    : 总时延  /数组\n",
    "输出数据：\n",
    "    DicCompetion: 1->1 的 映射关系（用字典的键值队来表示）\n",
    "计算公式：\n",
    "    调用函数计算->选中节点的 空闲率和总时延的 权重（e1， e2） e1+e2=1\n",
    "    e1 /(unoccupy+1) + e2 / (delay+1)\n",
    "'''\n",
    "#  1.偏好度的计算(竞争力)\n",
    "def mapCompete(node, unoccupy, delay):\n",
    "    \n",
    "    # 1.1 对总时延 映射到1,2 的区间\n",
    "    max = np.max(delay)\n",
    "    min = np.min(delay)\n",
    "    delay = ((delay - min) / max)\n",
    "\n",
    "    # 1.2 计算对整体选中的协作节点的 在空闲率 和 总时延 方面的权重\n",
    "    E1, E2 = calculate__.calculate_weight(len(node), unoccupy.tolist(), delay.tolist())    # 传入的是list副本\n",
    "    #print(E1,E2)\n",
    "    #  1.3 计算每个节点的竞争力并且保存到字典\n",
    "    dicCompete = dict()    #  字典保存保存偏好度\n",
    "    node = node.astype(int).tolist()    # node  变为整型的列表\n",
    "    for j in node:    # j是节点编号, 比数组里面对应下标大一位\n",
    "        dicCompete[j] = E1 /(unoccupy[j-1]+1) + E2 / (delay[j-1]+1)\n",
    "        \n",
    "    return dicCompete\n",
    "# 这必不可能出错啊"
   ]
  },
  {
   "cell_type": "code",
   "execution_count": 100,
   "id": "37e6f856",
   "metadata": {
    "scrolled": true
   },
   "outputs": [],
   "source": [
    "'''\n",
    "输入参数：\n",
    "    dType: 数据类型有关的系数(1,2)  / float\n",
    "    dSize: 协作节点j所购买的资源项大小 (这里即这项资源的大小) / float\n",
    "    data/node\n",
    "    node : 节点的编号  / 列表                               \n",
    "    delaT: 资源项的数据传输到协作节点j的时延  / 数组                \n",
    "    delaS: 资源项的数据写入到节点j的时延      / 数组                \n",
    "    unit1: 是存储一单位大小资源项所需的存储空间 (默认为1) / 数组\n",
    "输出数据：\n",
    "    DicService:1->1 的 映射关系（用字典的键值队来表示）\n",
    "计算公式：\n",
    "    sij = dType(i)·log2( (dSize(i)/unit1(j)) - delaT - delaS ) \n",
    "    \n",
    "'''\n",
    "# 3. 满意度计算（服务质量）\n",
    "def mapService(dType, dSize, node, delaT, delaS, unit1):\n",
    "    \n",
    "    #  3.1 对每个节点分别 计算他们存储数据项 i 的服务效能\n",
    "    DIC_nodeService = dict()\n",
    "    # node = node.astype(int).tolist()    # 复制一份协作节点编号的列表\n",
    "    dicService = dict()\n",
    "    for j in node:\n",
    "        # 计算服务效能,存入字典构成映射\n",
    "        antilog = (dSize/unit1[j-1]) - delaT[j-1] - delaS[j-1]\n",
    "        if antilog < 0:\n",
    "            dicService[j] = -9E6\n",
    "        else:\n",
    "            dicService[j] = dType*math.log2( antilog )\n",
    "\n",
    "    return dicService\n",
    "# 比不可能出错啊"
   ]
  },
  {
   "cell_type": "code",
   "execution_count": 101,
   "id": "13285c8f",
   "metadata": {},
   "outputs": [],
   "source": [
    "'''\n",
    "输入参数：\n",
    "    beita:  期望系数           / float\n",
    "    compN:  (偏好度)竞争力     / dic\n",
    "    value:  数据项的单位价值   /  int\n",
    "    node : 节点的编号          /   list\n",
    "    bid  : 这些节点对资源项目i的报价  /array 一行\n",
    "输出结果：\n",
    "\n",
    "计算过程：\n",
    "    standValue = beita * compN * value\n",
    "    (standValue - bid) / standValue\n",
    "    \n",
    "'''\n",
    "# 6. 计算期望获利比（对方让利比率）\n",
    "def mapYieldRate(beita, value, node, compN, bid):\n",
    "    # 计算标准定价 和 利润比\n",
    "    dicYieldRate = dict()\n",
    "\n",
    "    for j in node:\n",
    "        standValue = beita * compN[j] * value\n",
    "        dicYieldRate[j] = (standValue  - bid[j-1]) / standValue\n",
    "    return dicYieldRate"
   ]
  },
  {
   "cell_type": "code",
   "execution_count": 102,
   "id": "31ae6da4",
   "metadata": {
    "scrolled": true
   },
   "outputs": [],
   "source": [
    "'''\n",
    "输入参数：\n",
    "    m: 数据项的个数\n",
    "    n: 协作节点的个数\n",
    "    infoData, infoNode, infoBids\n",
    "输出结果:\n",
    "    映射: 数据项->(节点,成交价格)\n",
    "    ...\n",
    "\n",
    "\n",
    "'''\n",
    "# 拍卖算法流程\n",
    "def algorithmAUC(Data, Node, Bids, rate=0.5):\n",
    "    \n",
    "    dicDataToNode = dict()   \n",
    "    delay = Node[:,2]+Node[:,3]\n",
    "    \n",
    "    #   循环对资源项开始拍卖.\n",
    "    for i in Data[0:,0]:    #  i 即为数据项的编号(1->m)\n",
    "        \n",
    "        #  1.1 一个字典保存 发起节点 对协作节点的 偏好度\n",
    "        #   调用mapCompete 计算偏好（参数：节点编号，空闲率， 总时延）\n",
    "        dictCompetiom = mapCompete(Node[:,0],Node[:,5],delay)\n",
    "        \n",
    "        # 2. 对出价不符合发起节点预期的 协作节点作排除\n",
    "        Ja = Node[:,0].astype(int).tolist()    #  拷贝一份所有节点编号的集合\n",
    "        \n",
    "        for j in Ja:    # 编号j比下标大1 编号i比下标同样大1\n",
    "            if Bids[j-1][i-1] < Data[i-1][3] or Node[j-1,1]*Node[j-1,5] < Data[i-1,2]:\n",
    "                Ja.remove(j)    #  对出价不符合要求的节点,从这个集合中删除\n",
    "        \n",
    "        \n",
    "        if len(Ja) == 0:\n",
    "            dicDataToNode[i] = (-1,0)\n",
    "            continue\n",
    "        \n",
    "        # 3. 对 Ja 中的节点计算满意度(服务效能)\n",
    "        dicService = mapService(dType=Data[i-1,1], dSize=Data[i-1,2],node=Ja, \n",
    "                                delaT=Node[:,2], delaS=Node[:,3], unit1=Node[:,4])\n",
    "                                                    \n",
    "        \n",
    "        # 4. 按照满意度（服务效能排序）\n",
    "        sortService = sorted(dicService.items(), key=lambda items:items[1], reverse=True)    # 排序后的元组列表\n",
    "        \n",
    "        # 5.记录下排名前 rate=0.5 的节点\n",
    "        Jb = []\n",
    "        for j in range(math.ceil(len(sortService)*rate)):\n",
    "            Jb.append(sortService[j][0])\n",
    "            \n",
    "            \n",
    "        \n",
    "        # 6. 得到期望系数 β\n",
    "        beita = 1/max(dictCompetiom.values())\n",
    "        \n",
    "        # 7. 得到期望利率（对方的让利比）\n",
    "        dicYieldRate = mapYieldRate(beita=beita, value=Data[i-1,3], node=Jb, compN=dictCompetiom, bid=Bids[:,i-1])\n",
    "        \n",
    "        # 8.排序期望利润\n",
    "        sortYieldRate = sorted(dicYieldRate.items(), key=lambda items:items[1], reverse=True)\n",
    "        \n",
    "        # 9.记录下投标价和节点编号\n",
    "        if (len(sortYieldRate) == 1):\n",
    "            winner1 = sortYieldRate[0][0]\n",
    "            endPrice = Bids[winner1-1,i-1]\n",
    "            dicDataToNode[i] = (winner1, endPrice)\n",
    "        else:\n",
    "            winner1 = sortYieldRate[0][0]\n",
    "            winner2 = sortYieldRate[1][0]\n",
    "            endPrice = max(Bids[winner1-1,i-1], Bids[winner2-1,i-1])\n",
    "            dicDataToNode[i] = (winner1, endPrice)\n",
    "            \n",
    "        #10.更新节点资源空闲率 和竞争力\n",
    "        #10.1 资源空闲 = 现在空闲 / 总大小\n",
    "        Node[winner1-1,5] = (Node[winner1-1,1] *  Node[winner1-1,5] - Data[i-1,2]) / Node[winner1-1,1] \n",
    "        #print(beita)\n",
    "        \n",
    "    #print(dicDataToNode)  \n",
    "    return dicDataToNode\n"
   ]
  },
  {
   "cell_type": "code",
   "execution_count": 103,
   "id": "78f045d7",
   "metadata": {},
   "outputs": [],
   "source": [
    "dicDataToNode = algorithmAUC(Data=infoData, Node=infoNode, Bids=infoBids)\n"
   ]
  },
  {
   "cell_type": "code",
   "execution_count": null,
   "id": "7766f065",
   "metadata": {},
   "outputs": [],
   "source": []
  },
  {
   "cell_type": "code",
   "execution_count": 104,
   "id": "4345b994",
   "metadata": {},
   "outputs": [
    {
     "data": {
      "text/plain": [
       "53655"
      ]
     },
     "execution_count": 104,
     "metadata": {},
     "output_type": "execute_result"
    }
   ],
   "source": [
    "ans = 0\n",
    "for value in dicDataToNode.values():\n",
    "    ans += value[1]\n",
    "ans"
   ]
  },
  {
   "cell_type": "code",
   "execution_count": null,
   "id": "278aa8ee",
   "metadata": {},
   "outputs": [],
   "source": []
  }
 ],
 "metadata": {
  "kernelspec": {
   "display_name": "Python 3",
   "language": "python",
   "name": "python3"
  },
  "language_info": {
   "codemirror_mode": {
    "name": "ipython",
    "version": 3
   },
   "file_extension": ".py",
   "mimetype": "text/x-python",
   "name": "python",
   "nbconvert_exporter": "python",
   "pygments_lexer": "ipython3",
   "version": "3.8.5"
  }
 },
 "nbformat": 4,
 "nbformat_minor": 5
}
